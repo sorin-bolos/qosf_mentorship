{
 "cells": [
  {
   "cell_type": "code",
   "execution_count": 70,
   "metadata": {},
   "outputs": [],
   "source": [
    "from qiskit import *\n",
    "from qiskit.circuit import Parameter\n",
    "from qiskit.visualization import plot_histogram\n",
    "import numpy as np\n",
    "import matplotlib\n",
    "import scipy\n",
    "from itertools import combinations\n",
    "import matplotlib.pyplot as plt"
   ]
  },
  {
   "cell_type": "code",
   "execution_count": 13,
   "metadata": {},
   "outputs": [],
   "source": [
    "def addLayer(circ, thetas):\n",
    "    numQubits = circ.n_qubits\n",
    "    for i in range(numQubits):\n",
    "        circ.rz(thetas[i],i)\n",
    "        \n",
    "    if numQubits > 1:\n",
    "        for c, t in combinations(range(numQubits),2):\n",
    "            circ.cz(c,t)\n",
    "        \n",
    "    for i in range(numQubits):\n",
    "        circ.rx(thetas[i],i)\n",
    "        \n",
    "def getCircuit(numQubits, numLayers):\n",
    "    thetas = [[Parameter(f'θ[{i},{j+1}]') for j in range(numQubits)] for i in range(numLayers)]\n",
    "    thetas = np.array(thetas)\n",
    "    \n",
    "    circ = QuantumCircuit(numQubits)\n",
    "    for i in range(numLayers):\n",
    "        addLayer(circ, thetas[i])\n",
    "        circ.barrier()\n",
    "        \n",
    "    return circ, thetas\n",
    "        \n",
    "def generatePsi(numQubits, numLayers, thetaValues):\n",
    "    circ, parameters = getCircuit(numQubits, numLayers)\n",
    "    \n",
    "    parameter_binds={}\n",
    "    n,m = parameters.shape\n",
    "    for i in range(n):\n",
    "        for j in range(m):\n",
    "            parameter_binds[parameters[i][j]] = thetaValues[i][j]\n",
    "    \n",
    "    simulator = Aer.get_backend('statevector_simulator')\n",
    "    return execute(circ, simulator, parameter_binds=[parameter_binds], shots=1024).result().get_statevector(circ)\n",
    "\n",
    "def generateRandomState(size):\n",
    "    vector = np.random.random(size) + np.random.random(size) * 1j\n",
    "    norm = np.linalg.norm(vector)\n",
    "    return vector/norm\n"
   ]
  },
  {
   "cell_type": "code",
   "execution_count": 50,
   "metadata": {},
   "outputs": [],
   "source": []
  },
  {
   "cell_type": "code",
   "execution_count": 84,
   "metadata": {},
   "outputs": [],
   "source": [
    "def cost(flattenedThetas, numQubits, numLayers, fi):\n",
    "    thetas = flattenedThetas.reshape(numLayers, numQubits)\n",
    "    psi = generatePsi(numQubits,numLayers,thetas)\n",
    "    return np.linalg.norm(psi-fi)\n",
    "\n",
    "def getMinimum(numQubits, numLayers, fi, numTries, method):\n",
    "    def oneTry():\n",
    "        start = np.random.uniform(low=0, high=2*np.pi, size=(numQubits*numLayers,))\n",
    "        res = scipy.optimize.minimize(cost, start,(numQubits, numLayers, fi), method=method)\n",
    "        return res.fun\n",
    "    \n",
    "    minim=oneTry()\n",
    "    \n",
    "    tries=1\n",
    "    while tries<numTries:\n",
    "        res = oneTry()\n",
    "        if minim > res:\n",
    "            minim = res\n",
    "        tries += 1\n",
    "    return minim\n",
    "\n",
    "def doExperiments(qubitCounts, layerCounts, numTries, method):\n",
    "    results = {}\n",
    "    for numQubits in qubitCounts:\n",
    "        fi = generateRandomState(2**numQubits)\n",
    "\n",
    "        label = f'{numQubits} Qubits'\n",
    "        results[label] = np.zeros(len(layerCounts))\n",
    "        for i, numLayers in enumerate(layerCounts):\n",
    "            results[label][i] = getMinimum(numQubits, numLayers, fi, numTries, method)\n",
    "\n",
    "    return results"
   ]
  },
  {
   "cell_type": "code",
   "execution_count": 85,
   "metadata": {},
   "outputs": [
    {
     "data": {
      "image/png": "[encoded data removed]",
      "text/plain": [
       "<Figure size 432x288 with 1 Axes>"
      ]
     },
     "metadata": {
      "needs_background": "light"
     },
     "output_type": "display_data"
    }
   ],
   "source": [
    "qubitCounts = [1,2,4]\n",
    "layerCounts = [1,2,3,4]\n",
    "numTries = 3\n",
    "method = 'COBYLA'\n",
    "\n",
    "results = doExperiments(qubitCounts, layerCounts, numTries, method)\n",
    "plot(results, len(layerCounts))"
   ]
  },
  {
   "cell_type": "code",
   "execution_count": 77,
   "metadata": {},
   "outputs": [],
   "source": [
    "def plot(results, layersTried):\n",
    "    x = range(1, layersTried+1)\n",
    "\n",
    "    for key in results.keys():\n",
    "        y = results[key]\n",
    "        plt.plot(x, y, label=key)\n",
    "\n",
    "    plt.xlabel('Number of layers')\n",
    "    plt.ylabel('Minimum difference')\n",
    "    plt.title('The mimimum between psi and fi')\n",
    "    plt.legend()\n",
    "    plt.show()"
   ]
  },
  {
   "cell_type": "code",
   "execution_count": 137,
   "metadata": {},
   "outputs": [
    {
     "data": {
      "text/plain": [
       " final_simplex: (array([[4.93823265, 5.62600736, 4.08638887, 2.93643434],\n",
       "       [4.9382118 , 5.62610462, 4.08632564, 2.93648374],\n",
       "       [4.93823723, 5.62600619, 4.08631111, 2.93646639],\n",
       "       [4.93820811, 5.62601928, 4.0863378 , 2.93649545],\n",
       "       [4.93813918, 5.62609026, 4.08631114, 2.93652383]]), array([0.91815234, 0.91815234, 0.91815234, 0.91815235, 0.91815235]))\n",
       "           fun: 0.9181523397796332\n",
       "       message: 'Optimization terminated successfully.'\n",
       "          nfev: 139\n",
       "           nit: 81\n",
       "        status: 0\n",
       "       success: True\n",
       "             x: array([4.93823265, 5.62600736, 4.08638887, 2.93643434])"
      ]
     },
     "execution_count": 137,
     "metadata": {},
     "output_type": "execute_result"
    }
   ],
   "source": [
    "# def cost(theta):\n",
    "#     psi = generatePsiOneLayer(theta[0], theta[1], theta[2], theta[3])\n",
    "#     return np.linalg.norm(psi-fi)\n",
    "    \n",
    "# start = np.random.uniform(low=0, high=2*np.pi, size=(4,))\n",
    "# res = scipy.optimize.minimize(cost, start, method='Nelder-Mead')\n",
    "# res"
   ]
  },
  {
   "cell_type": "code",
   "execution_count": 133,
   "metadata": {},
   "outputs": [
    {
     "data": {
      "text/plain": [
       "0.8990668053466107"
      ]
     },
     "execution_count": 133,
     "metadata": {},
     "output_type": "execute_result"
    }
   ],
   "source": [
    "cost([2.52458136, 2.18068981, 4.0635977 , 1.54155779])\n"
   ]
  },
  {
   "cell_type": "code",
   "execution_count": 72,
   "metadata": {},
   "outputs": [
    {
     "ename": "SyntaxError",
     "evalue": "invalid syntax (<ipython-input-72-1c7b5ee1ef5d>, line 1)",
     "output_type": "error",
     "traceback": [
      "\u001b[1;36m  File \u001b[1;32m\"<ipython-input-72-1c7b5ee1ef5d>\"\u001b[1;36m, line \u001b[1;32m1\u001b[0m\n\u001b[1;33m    [1:2]\u001b[0m\n\u001b[1;37m      ^\u001b[0m\n\u001b[1;31mSyntaxError\u001b[0m\u001b[1;31m:\u001b[0m invalid syntax\n"
     ]
    }
   ],
   "source": [
    "[1:2]"
   ]
  },
  {
   "cell_type": "code",
   "execution_count": 66,
   "metadata": {},
   "outputs": [
    {
     "data": {
      "text/plain": [
       "1.365507537993799"
      ]
     },
     "execution_count": 66,
     "metadata": {},
     "output_type": "execute_result"
    }
   ],
   "source": [
    "np.linalg.norm(psi-fi)"
   ]
  },
  {
   "cell_type": "code",
   "execution_count": 237,
   "metadata": {},
   "outputs": [
    {
     "data": {
      "text/html": [
       "<pre style=\"word-wrap: normal;white-space: pre;background: #fff0;line-height: 1.1;font-family: &quot;Courier New&quot;,Courier,monospace\">     ┌────────────┐      ┌────────────┐               ░ ┌────────────┐      »\n",
       "q_0: ┤ RZ(θ[0,1]) ├─■──■─┤ RX(θ[0,1]) ├───────────────░─┤ RZ(θ[1,1]) ├─■──■─»\n",
       "     ├────────────┤ │  │ └────────────┘┌────────────┐ ░ ├────────────┤ │  │ »\n",
       "q_1: ┤ RZ(θ[0,2]) ├─■──┼───────■───────┤ RX(θ[0,2]) ├─░─┤ RZ(θ[1,2]) ├─■──┼─»\n",
       "     ├────────────┤    │       │       ├────────────┤ ░ ├────────────┤    │ »\n",
       "q_2: ┤ RZ(θ[0,3]) ├────■───────■───────┤ RX(θ[0,3]) ├─░─┤ RZ(θ[1,3]) ├────■─»\n",
       "     └────────────┘                    └────────────┘ ░ └────────────┘      »\n",
       "«     ┌────────────┐               ░ \n",
       "«q_0: ┤ RX(θ[1,1]) ├───────────────░─\n",
       "«     └────────────┘┌────────────┐ ░ \n",
       "«q_1: ──────■───────┤ RX(θ[1,2]) ├─░─\n",
       "«           │       ├────────────┤ ░ \n",
       "«q_2: ──────■───────┤ RX(θ[1,3]) ├─░─\n",
       "«                   └────────────┘ ░ </pre>"
      ],
      "text/plain": [
       "     ┌────────────┐      ┌────────────┐               ░ ┌────────────┐      »\n",
       "q_0: ┤ RZ(θ[0,1]) ├─■──■─┤ RX(θ[0,1]) ├───────────────░─┤ RZ(θ[1,1]) ├─■──■─»\n",
       "     ├────────────┤ │  │ └────────────┘┌────────────┐ ░ ├────────────┤ │  │ »\n",
       "q_1: ┤ RZ(θ[0,2]) ├─■──┼───────■───────┤ RX(θ[0,2]) ├─░─┤ RZ(θ[1,2]) ├─■──┼─»\n",
       "     ├────────────┤    │       │       ├────────────┤ ░ ├────────────┤    │ »\n",
       "q_2: ┤ RZ(θ[0,3]) ├────■───────■───────┤ RX(θ[0,3]) ├─░─┤ RZ(θ[1,3]) ├────■─»\n",
       "     └────────────┘                    └────────────┘ ░ └────────────┘      »\n",
       "«     ┌────────────┐               ░ \n",
       "«q_0: ┤ RX(θ[1,1]) ├───────────────░─\n",
       "«     └────────────┘┌────────────┐ ░ \n",
       "«q_1: ──────■───────┤ RX(θ[1,2]) ├─░─\n",
       "«           │       ├────────────┤ ░ \n",
       "«q_2: ──────■───────┤ RX(θ[1,3]) ├─░─\n",
       "«                   └────────────┘ ░ "
      ]
     },
     "execution_count": 237,
     "metadata": {},
     "output_type": "execute_result"
    }
   ],
   "source": [
    "c, t = getCircuit(3,2)\n",
    "c.draw()"
   ]
  },
  {
   "cell_type": "code",
   "execution_count": 284,
   "metadata": {},
   "outputs": [
    {
     "data": {
      "text/plain": [
       "1.0"
      ]
     },
     "execution_count": 284,
     "metadata": {},
     "output_type": "execute_result"
    }
   ],
   "source": [
    "psi = generatePsi(3,2,[[np.pi, np.pi/2, np.pi/3],[np.pi/3, np.pi/4, np.pi]])\n",
    "np.linalg.norm(fi)"
   ]
  },
  {
   "cell_type": "code",
   "execution_count": 308,
   "metadata": {},
   "outputs": [
    {
     "data": {
      "text/plain": [
       "0.36941506072438274"
      ]
     },
     "execution_count": 308,
     "metadata": {},
     "output_type": "execute_result"
    }
   ],
   "source": [
    "p = generatePsi(4,3,[[4.5912527 ,  1.58697777,  4.88585462,  4.49225959],  [6.08829631,\n",
    "        6.63230784,  3.63558275,  6.95567655],  [2.20537385, -1.53319168,\n",
    "        5.28154685,  1.16467469]])\n",
    "np.linalg.norm(p-fi)"
   ]
  }
 ],
 "metadata": {
  "kernelspec": {
   "display_name": "Python 3",
   "language": "python",
   "name": "python3"
  },
  "language_info": {
   "codemirror_mode": {
    "name": "ipython",
    "version": 3
   },
   "file_extension": ".py",
   "mimetype": "text/x-python",
   "name": "python",
   "nbconvert_exporter": "python",
   "pygments_lexer": "ipython3",
   "version": "3.7.3"
  }
 },
 "nbformat": 4,
 "nbformat_minor": 4
}
