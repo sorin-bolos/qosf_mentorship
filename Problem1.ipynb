{
 "cells": [
  {
   "cell_type": "markdown",
   "metadata": {},
   "source": [
    "Note: Before you can run this notebook you must install the required libraries by running `pip install -r requirements.txt`"
   ]
  },
  {
   "cell_type": "markdown",
   "metadata": {},
   "source": [
    "We first import the needed libraries"
   ]
  },
  {
   "cell_type": "code",
   "execution_count": 1,
   "metadata": {},
   "outputs": [],
   "source": [
    "from qiskit import *\n",
    "from qiskit.circuit import Parameter\n",
    "from qiskit.visualization import plot_histogram\n",
    "import numpy as np\n",
    "import matplotlib\n",
    "import scipy\n",
    "from itertools import combinations\n",
    "import matplotlib.pyplot as plt"
   ]
  },
  {
   "cell_type": "markdown",
   "metadata": {},
   "source": [
    "We then define some methods build the parametric state $ |\\psi(\\theta) \\rangle $ and the random state $ |\\phi \\rangle $.\n",
    "We will create a parametric circuit and then we will run it using different values for the parameters. This does not bring a large advantage when using a minimization method, but it really hepls when doing a grid search.\n",
    "Note: If you're using a version of Qiskit older than 0.13.0 you should use `circ.n_qubits` instead of `circ.num_qubits`"
   ]
  },
  {
   "cell_type": "code",
   "execution_count": 2,
   "metadata": {},
   "outputs": [],
   "source": [
    "def addLayer(circ, thetas):\n",
    "    '''\n",
    "    Adds a layer to the given circuit.\n",
    "    Parameters:\n",
    "        circ - the circuit to add the layers to\n",
    "        thetas - a list of circuit parameters that will hold the rotation angles\n",
    "    '''\n",
    "    numQubits = circ.num_qubits\n",
    "    for i in range(numQubits):\n",
    "        circ.rz(thetas[i],i)\n",
    "        \n",
    "    if numQubits > 1:\n",
    "        for c, t in combinations(range(numQubits),2):\n",
    "            circ.cz(c,t)\n",
    "        \n",
    "    for i in range(numQubits):\n",
    "        circ.rx(thetas[i],i)\n",
    "        \n",
    "def getCircuit(numQubits, numLayers):\n",
    "    '''\n",
    "    Creates a circuit with the given number of qubits and the given number of layers.\n",
    "    Parameters:\n",
    "        numQubits - the number of qubits\n",
    "        numLayers - the number of layers\n",
    "    Returns: A parameterized circuit.\n",
    "    '''\n",
    "    thetas = [[Parameter(f'θ[{i},{j+1}]') for j in range(numQubits)] for i in range(numLayers)]\n",
    "    thetas = np.array(thetas)\n",
    "    \n",
    "    circ = QuantumCircuit(numQubits)\n",
    "    for i in range(numLayers):\n",
    "        addLayer(circ, thetas[i])\n",
    "        circ.barrier()\n",
    "        \n",
    "    return circ, thetas\n",
    "        \n",
    "def generatePsi(numQubits, numLayers, thetaValues):\n",
    "    '''\n",
    "    Generates the state psi(theta).\n",
    "    Parameters:\n",
    "        numQubits - the number of qubits\n",
    "        numLayers - the number of layers\n",
    "        thetaValues - a matrix of values to replace the parameters.\n",
    "                      The dimension is [numLayers, numQubits]\n",
    "                      The line i of the matrix means the value is for the parameter on layer i\n",
    "                      The column j of the matrix means the value is for the parameter on qubit j\n",
    "    Returns: a normalized complex vector that represents the state psi\n",
    "    '''\n",
    "    circ, parameters = getCircuit(numQubits, numLayers)\n",
    "    \n",
    "    parameter_binds={}\n",
    "    n,m = parameters.shape\n",
    "    for i in range(n):\n",
    "        for j in range(m):\n",
    "            parameter_binds[parameters[i][j]] = thetaValues[i][j]\n",
    "    \n",
    "    simulator = Aer.get_backend('statevector_simulator')\n",
    "    return execute(circ, simulator, parameter_binds=[parameter_binds], shots=1024).result().get_statevector(circ)\n",
    "\n",
    "def generateRandomState(size):\n",
    "    '''\n",
    "    Generates the random state fi.\n",
    "    Parameters:\n",
    "       size - the size of the vector \n",
    "    Returns: a normalized complex vector that represents the state fi\n",
    "    '''\n",
    "    vector = np.random.random(size) + np.random.random(size) * 1j\n",
    "    norm = np.linalg.norm(vector)\n",
    "    return vector/norm\n"
   ]
  },
  {
   "cell_type": "markdown",
   "metadata": {},
   "source": [
    "Let's check if the function that defines the parametric circuit works well. We'll create a circuit with 4 qubits and 2 layers and we'll draw it."
   ]
  },
  {
   "cell_type": "code",
   "execution_count": 3,
   "metadata": {},
   "outputs": [
    {
     "name": "stdout",
     "output_type": "stream",
     "text": [
      "[[Parameter(θ[0,1]) Parameter(θ[0,2]) Parameter(θ[0,3]) Parameter(θ[0,4])]\n",
      " [Parameter(θ[1,1]) Parameter(θ[1,2]) Parameter(θ[1,3]) Parameter(θ[1,4])]]\n"
     ]
    },
    {
     "data": {
      "image/png": "[encoded data removed]",
      "text/plain": [
       "<Figure size 1224.38x264.88 with 1 Axes>"
      ]
     },
     "execution_count": 3,
     "metadata": {},
     "output_type": "execute_result"
    }
   ],
   "source": [
    "circuit, parameters = getCircuit(4,2)\n",
    "print(parameters)\n",
    "circuit.draw(output='mpl')"
   ]
  },
  {
   "cell_type": "markdown",
   "metadata": {},
   "source": [
    "Let's check that the function that generates the parametric state $ | \\psi(\\theta) \\rangle $ works well. We'll generate a 4-qubit state using some values for the parameters and we'll also check if the norm is 1. "
   ]
  },
  {
   "cell_type": "code",
   "execution_count": 4,
   "metadata": {},
   "outputs": [
    {
     "name": "stdout",
     "output_type": "stream",
     "text": [
      "[ 6.41512031e-02+2.06784001e-01j -3.58160396e-01+1.11113143e-01j\n",
      " -9.91691675e-02-7.60951786e-02j  1.31800716e-01-1.71766037e-01j\n",
      "  1.31800716e-01-1.71766037e-01j  2.97507503e-01+2.28285536e-01j\n",
      "  1.46283228e-02-3.74714574e-01j  6.49024681e-01+2.53369983e-02j\n",
      " -8.00238241e-18-2.14423190e-18j  3.71391860e-18-1.38605329e-17j\n",
      "  5.17663375e-18-1.93194601e-17j  3.34622866e-17+8.96619266e-18j\n",
      "  1.73213541e-17+3.00014654e-17j -5.19640623e-17+3.00014654e-17j\n",
      "  1.24270138e-17-7.17473979e-18j  1.24270138e-17+2.15242194e-17j]\n",
      "Norm of psi: 1.0\n"
     ]
    }
   ],
   "source": [
    "psi = generatePsi(4,2,[[np.pi, np.pi/2, np.pi/3, np.pi],[np.pi/3, np.pi/4, np.pi, np.pi]])\n",
    "print(psi)\n",
    "print(f'Norm of psi: {np.linalg.norm(psi)}')"
   ]
  },
  {
   "cell_type": "markdown",
   "metadata": {},
   "source": [
    "Let's check if the function that generates the random state $ | \\phi \\rangle $ works well. We'll also check the norm."
   ]
  },
  {
   "cell_type": "code",
   "execution_count": 5,
   "metadata": {},
   "outputs": [
    {
     "name": "stdout",
     "output_type": "stream",
     "text": [
      "[0.23341503+0.03410366j 0.12795674+0.0411998j  0.11828622+0.24026459j\n",
      " 0.16704901+0.08422726j 0.2534168 +0.29139535j 0.06110514+0.15709925j\n",
      " 0.28081377+0.01836091j 0.09790086+0.02576281j 0.1250905 +0.30127168j\n",
      " 0.02439993+0.01720572j 0.25052364+0.07945519j 0.21755954+0.07837532j\n",
      " 0.21255148+0.0965419j  0.26273812+0.04686688j 0.3084975 +0.2682983j\n",
      " 0.16672299+0.04524733j]\n",
      "Norm of fi: 0.9999999999999999\n"
     ]
    }
   ],
   "source": [
    "fi = generateRandomState(2**4)\n",
    "print(fi)\n",
    "print(f'Norm of fi: {np.linalg.norm(fi)}')"
   ]
  },
  {
   "cell_type": "markdown",
   "metadata": {},
   "source": [
    "Next we need to define some functions that will help us determine the minimum of the difference vector."
   ]
  },
  {
   "cell_type": "code",
   "execution_count": 6,
   "metadata": {},
   "outputs": [],
   "source": [
    "def cost(flattenedThetas, numQubits, numLayers, fi):\n",
    "    '''\n",
    "    Computes the norm of the difference vetor.\n",
    "    Parameters:\n",
    "        flattenedThetas - the values for the parameters in a one-dimensional array\n",
    "        numQubits - the number of qubits\n",
    "        numLayers - the number of layers\n",
    "        fi - the random state fi\n",
    "    Returns: The norm of the difference vector\n",
    "    '''\n",
    "    thetas = flattenedThetas.reshape(numLayers, numQubits)\n",
    "    psi = generatePsi(numQubits,numLayers,thetas)\n",
    "    return np.linalg.norm(psi-fi)\n",
    "\n",
    "def getMinimum(numQubits, numLayers, fi, numTries, method):\n",
    "    '''\n",
    "    Determines the minimum of the cost function.\n",
    "    Parameters:\n",
    "        numQubits - the number of qubits\n",
    "        numLayers - the number of layers\n",
    "        fi - the random state fi\n",
    "        numTries - the number of times to repeat the minimum estimation\n",
    "        method - the method used to determine the minimum\n",
    "    Returns: the minimum of the cost function\n",
    "    '''\n",
    "    def oneTry():\n",
    "        start = np.random.uniform(low=0, high=2*np.pi, size=(numQubits*numLayers,))\n",
    "        res = scipy.optimize.minimize(cost, start,(numQubits, numLayers, fi), method=method)\n",
    "        return res.fun\n",
    "    \n",
    "    minim=oneTry()\n",
    "    \n",
    "    tries=1\n",
    "    while tries<numTries:\n",
    "        res = oneTry()\n",
    "        if minim > res:\n",
    "            minim = res\n",
    "        tries += 1\n",
    "    return minim\n",
    "\n",
    "def doExperiments(qubitCounts, layerCounts, numTries, method):\n",
    "    '''\n",
    "    Finds the minimum of the difference norm for different number of qubits and different numbers of layers.\n",
    "    Parameters:\n",
    "        qubitCounts - an array containing different qubit counts\n",
    "        numLayers - an array containing different number of layers\n",
    "        fi - the random state fi\n",
    "        numTries - the number of times to repeat the minimum estimation\n",
    "        method - the method used to determine the minimum\n",
    "    Returns: an dictionary where the keys are the different qubit counts \n",
    "             and the valus are arrays containing the minimum found for each layer count \n",
    "    '''\n",
    "    results = {}\n",
    "    for numQubits in qubitCounts:\n",
    "        fi = generateRandomState(2**numQubits)\n",
    "\n",
    "        label = f'{numQubits} Qubits'\n",
    "        results[label] = np.zeros(len(layerCounts))\n",
    "        for i, numLayers in enumerate(layerCounts):\n",
    "            results[label][i] = getMinimum(numQubits, numLayers, fi, numTries, method)\n",
    "\n",
    "    return results"
   ]
  },
  {
   "cell_type": "markdown",
   "metadata": {},
   "source": [
    "We now need a function to plot the results"
   ]
  },
  {
   "cell_type": "code",
   "execution_count": 7,
   "metadata": {},
   "outputs": [],
   "source": [
    "def plot(results, layerCounts):\n",
    "    '''\n",
    "    Plots the results.\n",
    "    Parameters:\n",
    "        reults - the output of the `doExperiments` method\n",
    "        layerCounts - an array containing different number of layers used\n",
    "    '''\n",
    "    for key in results.keys():\n",
    "        y = results[key]\n",
    "        plt.plot(layerCounts, y, '-*', label=key)\n",
    "\n",
    "    plt.xlabel('Number of layers')\n",
    "    plt.ylabel('Minimum difference')\n",
    "    plt.title('The mimimum between psi and fi')\n",
    "    plt.legend()\n",
    "    plt.show()"
   ]
  },
  {
   "cell_type": "markdown",
   "metadata": {},
   "source": [
    "Now it's time to run the experiments and look at the results. Depending on the number of qubits, number of tries and the number of layers this can take a long time."
   ]
  },
  {
   "cell_type": "code",
   "execution_count": 10,
   "metadata": {},
   "outputs": [
    {
     "data": {
      "image/png": "[encoded data removed]",
      "text/plain": [
       "<Figure size 432x288 with 1 Axes>"
      ]
     },
     "metadata": {
      "needs_background": "light"
     },
     "output_type": "display_data"
    }
   ],
   "source": [
    "qubitCounts = [1,2,4]\n",
    "layerCounts = [1,2,3,4,5,6]\n",
    "numTries = 3\n",
    "method = 'COBYLA' #or 'Nelder-Mead'\n",
    "\n",
    "results = doExperiments(qubitCounts, layerCounts, numTries, method)\n",
    "plot(results, layerCounts)"
   ]
  },
  {
   "cell_type": "code",
   "execution_count": 11,
   "metadata": {},
   "outputs": [
    {
     "data": {
      "text/plain": [
       "{'1 Qubits': array([6.52386617e-01, 7.20318719e-02, 2.31207061e-04, 5.79611363e-05,\n",
       "        3.23561711e-05, 4.62989609e-05]),\n",
       " '2 Qubits': array([7.34700074e-01, 3.87222590e-01, 1.42848561e-01, 5.43124383e-04,\n",
       "        1.36805104e-04, 7.57973348e-05]),\n",
       " '4 Qubits': array([1.01298265, 0.78293124, 0.40218457, 0.23374444, 0.25591585,\n",
       "        0.16598626])}"
      ]
     },
     "execution_count": 11,
     "metadata": {},
     "output_type": "execute_result"
    }
   ],
   "source": [
    "results"
   ]
  },
  {
   "cell_type": "markdown",
   "metadata": {},
   "source": [
    "If you would like to use different rotation types you must modify the `addLayer` function and change the gate types. For example replace the `rx` gates with `ry` gates; or replace the `cz` gates with `cx` gates. But from my experience the results will be similar"
   ]
  }
 ],
 "metadata": {
  "kernelspec": {
   "display_name": "Python 3",
   "language": "python",
   "name": "python3"
  },
  "language_info": {
   "codemirror_mode": {
    "name": "ipython",
    "version": 3
   },
   "file_extension": ".py",
   "mimetype": "text/x-python",
   "name": "python",
   "nbconvert_exporter": "python",
   "pygments_lexer": "ipython3",
   "version": "3.7.7"
  }
 },
 "nbformat": 4,
 "nbformat_minor": 4
}
