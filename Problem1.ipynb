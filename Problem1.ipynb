{
 "cells": [
  {
   "cell_type": "code",
   "execution_count": 156,
   "metadata": {},
   "outputs": [],
   "source": [
    "from qiskit import *\n",
    "from qiskit.circuit import Parameter\n",
    "from qiskit.visualization import plot_histogram\n",
    "import numpy as np\n",
    "import matplotlib\n",
    "import scipy\n",
    "from itertools import combinations"
   ]
  },
  {
   "cell_type": "code",
   "execution_count": 227,
   "metadata": {},
   "outputs": [],
   "source": [
    "def addLayer(circ, thetas):\n",
    "    for i in range(circ.num_qubits):\n",
    "        circ.rz(thetas[i],i)\n",
    "        \n",
    "    if circ.num_qubits > 1:\n",
    "        for c, t in combinations(range(circ.num_qubits),2):\n",
    "            circ.cz(c,t)\n",
    "        \n",
    "    for i in range(circ.num_qubits):\n",
    "        circ.rx(thetas[i],i)\n",
    "        \n",
    "def getCircuit(numQubits, numLayers):\n",
    "    thetas = [[Parameter(f'θ[{i},{j+1}]') for j in range(numQubits)] for i in range(numLayers)]\n",
    "    thetas = np.array(thetas)\n",
    "    \n",
    "    circ = QuantumCircuit(numQubits)\n",
    "    for i in range(numLayers):\n",
    "        addLayer(circ, thetas[i])\n",
    "        circ.barrier()\n",
    "        \n",
    "    return circ, thetas\n",
    "        \n",
    "def generatePsi(numQubits, numLayers, thetaValues):\n",
    "    circ, parameters = getCircuit(numQubits, numLayers)\n",
    "    \n",
    "    parameter_binds={}\n",
    "    n,m = parameters.shape\n",
    "    for i in range(n):\n",
    "        for j in range(m):\n",
    "            parameter_binds[parameters[i][j]] = thetaValues[i][j]\n",
    "    \n",
    "    simulator = Aer.get_backend('statevector_simulator')\n",
    "    return execute(circ, simulator, parameter_binds=[parameter_binds], shots=1024).result().get_statevector(circ)\n",
    "\n",
    "def AddOrangeBlock(circ, theta1, theta2, theta3, theta4):\n",
    "    circ.rz(theta1,0)\n",
    "    circ.rz(theta2,1)\n",
    "    circ.rz(theta3,2)\n",
    "    circ.rz(theta4,3)\n",
    "    \n",
    "    circ.cz(0,1)\n",
    "    circ.cz(0,2)\n",
    "    circ.cz(0,3)\n",
    "    circ.cz(1,2)\n",
    "    circ.cz(1,3)\n",
    "    circ.cz(2,3)\n",
    "    \n",
    "def AddGreenBlock(circ, theta1, theta2, theta3, theta4):\n",
    "    circ.rx(theta1,0)\n",
    "    circ.rx(theta2,1)\n",
    "    circ.rx(theta3,2)\n",
    "    circ.rx(theta4,3)\n",
    "    \n",
    "def AddLayer(circ, theta1, theta2, theta3, theta4):\n",
    "    AddOrangeBlock(circ, theta1, theta2, theta3, theta4)\n",
    "    AddGreenBlock(circ, theta1, theta2, theta3, theta4)\n",
    "    \n",
    "def generateRandomState(size):\n",
    "    vector = np.random.random(size) + np.random.random(size) * 1j\n",
    "    norm = np.linalg.norm(vector)\n",
    "    return vector/norm\n",
    "\n",
    "def generatePsiOneLayer(theta1, theta2, theta3, theta4):\n",
    "    circuit = QuantumCircuit(reg)\n",
    "    AddLayer(circuit, theta1, theta2, theta3, theta4)\n",
    "    AddLayer(circuit, theta1, theta2, theta3, theta4)\n",
    "    AddLayer(circuit, theta1, theta2, theta3, theta4)\n",
    "    AddLayer(circuit, theta1, theta2, theta3, theta4)\n",
    "    AddLayer(circuit, theta1, theta2, theta3, theta4)\n",
    "    AddLayer(circuit, theta1, theta2, theta3, theta4)\n",
    "    simulator = Aer.get_backend('statevector_simulator')\n",
    "    return execute(circuit, simulator, shots=1024).result().get_statevector(circuit)\n"
   ]
  },
  {
   "cell_type": "code",
   "execution_count": 241,
   "metadata": {},
   "outputs": [],
   "source": [
    "fi = generateRandomState(16)"
   ]
  },
  {
   "cell_type": "code",
   "execution_count": 310,
   "metadata": {},
   "outputs": [],
   "source": [
    "def cost(flattenedThetas):\n",
    "    numQubits = 4\n",
    "    numLayers = 4\n",
    "    thetas = flattenedThetas.reshape(numLayers, numQubits)\n",
    "    psi = generatePsi(numQubits,numLayers,thetas)\n",
    "    return np.linalg.norm(psi-fi)"
   ]
  },
  {
   "cell_type": "code",
   "execution_count": 315,
   "metadata": {},
   "outputs": [
    {
     "data": {
      "text/plain": [
       "     fun: 0.31567457155921386\n",
       "   maxcv: 0.0\n",
       " message: 'Maximum number of function evaluations has been exceeded.'\n",
       "    nfev: 1000\n",
       "  status: 2\n",
       " success: False\n",
       "       x: array([5.93467471, 5.88568726, 6.28145433, 4.64856485, 1.6553404 ,\n",
       "       4.64556344, 1.56102026, 4.92259821, 3.49523539, 0.16557739,\n",
       "       0.04351441, 4.02475405, 4.79182638, 4.79805291, 1.43810092,\n",
       "       0.82368993])"
      ]
     },
     "execution_count": 315,
     "metadata": {},
     "output_type": "execute_result"
    }
   ],
   "source": [
    "numQubits = 4\n",
    "numLayers = 4\n",
    "start = np.random.uniform(low=0, high=2*np.pi, size=(numQubits*numLayers,))\n",
    "res = scipy.optimize.minimize(cost, start, method='COBYLA')\n",
    "res"
   ]
  },
  {
   "cell_type": "code",
   "execution_count": 137,
   "metadata": {},
   "outputs": [
    {
     "data": {
      "text/plain": [
       " final_simplex: (array([[4.93823265, 5.62600736, 4.08638887, 2.93643434],\n",
       "       [4.9382118 , 5.62610462, 4.08632564, 2.93648374],\n",
       "       [4.93823723, 5.62600619, 4.08631111, 2.93646639],\n",
       "       [4.93820811, 5.62601928, 4.0863378 , 2.93649545],\n",
       "       [4.93813918, 5.62609026, 4.08631114, 2.93652383]]), array([0.91815234, 0.91815234, 0.91815234, 0.91815235, 0.91815235]))\n",
       "           fun: 0.9181523397796332\n",
       "       message: 'Optimization terminated successfully.'\n",
       "          nfev: 139\n",
       "           nit: 81\n",
       "        status: 0\n",
       "       success: True\n",
       "             x: array([4.93823265, 5.62600736, 4.08638887, 2.93643434])"
      ]
     },
     "execution_count": 137,
     "metadata": {},
     "output_type": "execute_result"
    }
   ],
   "source": [
    "# def cost(theta):\n",
    "#     psi = generatePsiOneLayer(theta[0], theta[1], theta[2], theta[3])\n",
    "#     return np.linalg.norm(psi-fi)\n",
    "    \n",
    "# start = np.random.uniform(low=0, high=2*np.pi, size=(4,))\n",
    "# res = scipy.optimize.minimize(cost, start, method='Nelder-Mead')\n",
    "# res"
   ]
  },
  {
   "cell_type": "code",
   "execution_count": 133,
   "metadata": {},
   "outputs": [
    {
     "data": {
      "text/plain": [
       "0.8990668053466107"
      ]
     },
     "execution_count": 133,
     "metadata": {},
     "output_type": "execute_result"
    }
   ],
   "source": [
    "cost([2.52458136, 2.18068981, 4.0635977 , 1.54155779])\n"
   ]
  },
  {
   "cell_type": "code",
   "execution_count": 49,
   "metadata": {},
   "outputs": [],
   "source": [
    "fi = generateRandomState(16)"
   ]
  },
  {
   "cell_type": "code",
   "execution_count": 66,
   "metadata": {},
   "outputs": [
    {
     "data": {
      "text/plain": [
       "1.365507537993799"
      ]
     },
     "execution_count": 66,
     "metadata": {},
     "output_type": "execute_result"
    }
   ],
   "source": [
    "np.linalg.norm(psi-fi)"
   ]
  },
  {
   "cell_type": "code",
   "execution_count": 237,
   "metadata": {},
   "outputs": [
    {
     "data": {
      "text/html": [
       "<pre style=\"word-wrap: normal;white-space: pre;background: #fff0;line-height: 1.1;font-family: &quot;Courier New&quot;,Courier,monospace\">     ┌────────────┐      ┌────────────┐               ░ ┌────────────┐      »\n",
       "q_0: ┤ RZ(θ[0,1]) ├─■──■─┤ RX(θ[0,1]) ├───────────────░─┤ RZ(θ[1,1]) ├─■──■─»\n",
       "     ├────────────┤ │  │ └────────────┘┌────────────┐ ░ ├────────────┤ │  │ »\n",
       "q_1: ┤ RZ(θ[0,2]) ├─■──┼───────■───────┤ RX(θ[0,2]) ├─░─┤ RZ(θ[1,2]) ├─■──┼─»\n",
       "     ├────────────┤    │       │       ├────────────┤ ░ ├────────────┤    │ »\n",
       "q_2: ┤ RZ(θ[0,3]) ├────■───────■───────┤ RX(θ[0,3]) ├─░─┤ RZ(θ[1,3]) ├────■─»\n",
       "     └────────────┘                    └────────────┘ ░ └────────────┘      »\n",
       "«     ┌────────────┐               ░ \n",
       "«q_0: ┤ RX(θ[1,1]) ├───────────────░─\n",
       "«     └────────────┘┌────────────┐ ░ \n",
       "«q_1: ──────■───────┤ RX(θ[1,2]) ├─░─\n",
       "«           │       ├────────────┤ ░ \n",
       "«q_2: ──────■───────┤ RX(θ[1,3]) ├─░─\n",
       "«                   └────────────┘ ░ </pre>"
      ],
      "text/plain": [
       "     ┌────────────┐      ┌────────────┐               ░ ┌────────────┐      »\n",
       "q_0: ┤ RZ(θ[0,1]) ├─■──■─┤ RX(θ[0,1]) ├───────────────░─┤ RZ(θ[1,1]) ├─■──■─»\n",
       "     ├────────────┤ │  │ └────────────┘┌────────────┐ ░ ├────────────┤ │  │ »\n",
       "q_1: ┤ RZ(θ[0,2]) ├─■──┼───────■───────┤ RX(θ[0,2]) ├─░─┤ RZ(θ[1,2]) ├─■──┼─»\n",
       "     ├────────────┤    │       │       ├────────────┤ ░ ├────────────┤    │ »\n",
       "q_2: ┤ RZ(θ[0,3]) ├────■───────■───────┤ RX(θ[0,3]) ├─░─┤ RZ(θ[1,3]) ├────■─»\n",
       "     └────────────┘                    └────────────┘ ░ └────────────┘      »\n",
       "«     ┌────────────┐               ░ \n",
       "«q_0: ┤ RX(θ[1,1]) ├───────────────░─\n",
       "«     └────────────┘┌────────────┐ ░ \n",
       "«q_1: ──────■───────┤ RX(θ[1,2]) ├─░─\n",
       "«           │       ├────────────┤ ░ \n",
       "«q_2: ──────■───────┤ RX(θ[1,3]) ├─░─\n",
       "«                   └────────────┘ ░ "
      ]
     },
     "execution_count": 237,
     "metadata": {},
     "output_type": "execute_result"
    }
   ],
   "source": [
    "c, t = getCircuit(3,2)\n",
    "c.draw()"
   ]
  },
  {
   "cell_type": "code",
   "execution_count": 284,
   "metadata": {},
   "outputs": [
    {
     "data": {
      "text/plain": [
       "1.0"
      ]
     },
     "execution_count": 284,
     "metadata": {},
     "output_type": "execute_result"
    }
   ],
   "source": [
    "psi = generatePsi(3,2,[[np.pi, np.pi/2, np.pi/3],[np.pi/3, np.pi/4, np.pi]])\n",
    "np.linalg.norm(fi)"
   ]
  },
  {
   "cell_type": "code",
   "execution_count": 308,
   "metadata": {},
   "outputs": [
    {
     "data": {
      "text/plain": [
       "0.36941506072438274"
      ]
     },
     "execution_count": 308,
     "metadata": {},
     "output_type": "execute_result"
    }
   ],
   "source": [
    "p = generatePsi(4,3,[[4.5912527 ,  1.58697777,  4.88585462,  4.49225959],  [6.08829631,\n",
    "        6.63230784,  3.63558275,  6.95567655],  [2.20537385, -1.53319168,\n",
    "        5.28154685,  1.16467469]])\n",
    "np.linalg.norm(p-fi)"
   ]
  }
 ],
 "metadata": {
  "kernelspec": {
   "display_name": "Python 3",
   "language": "python",
   "name": "python3"
  },
  "language_info": {
   "codemirror_mode": {
    "name": "ipython",
    "version": 3
   },
   "file_extension": ".py",
   "mimetype": "text/x-python",
   "name": "python",
   "nbconvert_exporter": "python",
   "pygments_lexer": "ipython3",
   "version": "3.7.7"
  }
 },
 "nbformat": 4,
 "nbformat_minor": 4
}
